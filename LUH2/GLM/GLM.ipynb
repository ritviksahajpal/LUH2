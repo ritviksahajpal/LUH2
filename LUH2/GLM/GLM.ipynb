{
 "cells": [
  {
   "cell_type": "markdown",
   "metadata": {
    "collapsed": true
   },
   "source": [
    "Global Land Model"
   ]
  },
  {
   "cell_type": "markdown",
   "metadata": {},
   "source": [
    "Diagnostics"
   ]
  },
  {
   "cell_type": "markdown",
   "metadata": {},
   "source": [
    "Steps to creating diagnostic table for GLM runs"
   ]
  },
  {
   "cell_type": "code",
   "execution_count": null,
   "metadata": {
    "collapsed": true
   },
   "outputs": [],
   "source": [
    "import process_GLM\n",
    "\n",
    "if __name__ == '__main__':\n",
    "    process_GLM.do_diagnostics_table()"
   ]
  },
  {
   "cell_type": "code",
   "execution_count": null,
   "metadata": {
    "collapsed": true
   },
   "outputs": [],
   "source": [
    "import process_GLM\n",
    "\n",
    "for exp in constants.glm_experiments:\n",
    "    logger.info('do_diagnostic_plots_mgt: ' + exp)\n",
    "    obj = glm(name_exp=exp,\n",
    "              path_input=constants.path_glm_input + os.sep + exp,\n",
    "              time_period='past',\n",
    "              out_path=constants.path_glm_output + os.sep + exp + os.sep + 'management')\n",
    "\n",
    "    # Plot maps of management: biofuels/wood/harv\n",
    "    obj.make_glm_mgt_maps(2015 - obj.start_yr)"
   ]
  },
  {
   "cell_type": "code",
   "execution_count": null,
   "metadata": {
    "collapsed": true
   },
   "outputs": [],
   "source": [
    ""
   ]
  }
 ],
 "metadata": {
  "kernelspec": {
   "display_name": "Python 3",
   "language": "python",
   "name": "python3"
  },
  "language_info": {
   "codemirror_mode": {
    "name": "ipython",
    "version": 3.0
   },
   "file_extension": ".py",
   "mimetype": "text/x-python",
   "name": "python",
   "nbconvert_exporter": "python",
   "pygments_lexer": "ipython3",
   "version": "3.5.1"
  }
 },
 "nbformat": 4,
 "nbformat_minor": 0
}